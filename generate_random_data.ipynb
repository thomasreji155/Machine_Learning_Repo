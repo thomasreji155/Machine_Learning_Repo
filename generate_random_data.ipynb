{
 "cells": [
  {
   "cell_type": "markdown",
   "metadata": {},
   "source": [
    "# Random Number Generation "
   ]
  },
  {
   "cell_type": "code",
   "execution_count": 62,
   "metadata": {},
   "outputs": [],
   "source": [
    "import pandas as pd \n",
    "import numpy as np \n",
    "from matplotlib import pyplot as plt \n",
    "import seaborn as sns \n",
    "\n",
    "import random\n",
    "from numpy.random import randn \n",
    "from numpy.random import seed \n",
    "from numpy import mean \n",
    "from numpy import std "
   ]
  },
  {
   "cell_type": "code",
   "execution_count": 63,
   "metadata": {},
   "outputs": [
    {
     "name": "stdout",
     "output_type": "stream",
     "text": [
      "-0.02551484800765029\n",
      "0.969589282958136\n"
     ]
    }
   ],
   "source": [
    "# creating the data \n",
    "seed(1)\n",
    "\n",
    "\n",
    "# creating 100 random numbers \n",
    "data1 = randn(50)\n",
    "# sns.kdeplot(data1)\n",
    "print(mean(data1))  # mean almost 0 \n",
    "print(std(data1)) # std almost 1 \n",
    "# the above generated data is from normal distribution "
   ]
  },
  {
   "cell_type": "code",
   "execution_count": 64,
   "metadata": {},
   "outputs": [
    {
     "data": {
      "text/plain": "23.311246878883672"
     },
     "execution_count": 64,
     "metadata": {},
     "output_type": "execute_result"
    }
   ],
   "source": [
    "# getting a float ranodm from the unifform distribution  \n",
    "random.uniform(23,25)  "
   ]
  },
  {
   "cell_type": "code",
   "execution_count": 65,
   "metadata": {},
   "outputs": [],
   "source": [
    "\n",
    "data_2 = random.sample(range(1,200), 50) \n",
    "data2 = [i/10 for i in data_2] "
   ]
  },
  {
   "cell_type": "code",
   "execution_count": 66,
   "metadata": {},
   "outputs": [],
   "source": [
    "# getting random numbers \n",
    "data_3 = random.sample(range(23,83), 50) \n"
   ]
  },
  {
   "cell_type": "code",
   "execution_count": 67,
   "metadata": {},
   "outputs": [
    {
     "data": {
      "text/plain": "32"
     },
     "execution_count": 67,
     "metadata": {},
     "output_type": "execute_result"
    }
   ],
   "source": [
    "# getting a random integer bettween two nubmers \n",
    "random.randint(2,38)"
   ]
  },
  {
   "cell_type": "code",
   "execution_count": 68,
   "metadata": {},
   "outputs": [
    {
     "data": {
      "text/plain": "3"
     },
     "execution_count": 68,
     "metadata": {},
     "output_type": "execute_result"
    }
   ],
   "source": [
    "# creating a random element from a sequence \n",
    "seq = [3,21,5,2]\n",
    "random.choice(seq)"
   ]
  },
  {
   "cell_type": "code",
   "execution_count": 69,
   "metadata": {},
   "outputs": [
    {
     "name": "stdout",
     "output_type": "stream",
     "text": [
      "[35, 3, 32, 3, 5, 32, 2, 2, 5, 25, 52, 3]\n"
     ]
    }
   ],
   "source": [
    "# shuffling a data \n",
    "y = [3,2,5,3,3,2,5,32,32,52,35,25]\n",
    "random.shuffle(y)\n",
    "print(y)"
   ]
  },
  {
   "cell_type": "code",
   "execution_count": 70,
   "metadata": {},
   "outputs": [
    {
     "name": "stdout",
     "output_type": "stream",
     "text": [
      "[15, 24, 8, 11, 19, 3, 9, 4, 18, 13, 5, 7, 2, 22, 0, 17, 16, 25, 10, 20, 14, 23, 12]\n"
     ]
    }
   ],
   "source": [
    "# taking a sample from a population \n",
    "pop = list(range(0,26))\n",
    "print(random.sample(pop,23))"
   ]
  },
  {
   "cell_type": "code",
   "execution_count": 71,
   "metadata": {},
   "outputs": [
    {
     "data": {
      "text/plain": "0.947235281682879"
     },
     "execution_count": 71,
     "metadata": {},
     "output_type": "execute_result"
    }
   ],
   "source": [
    "# getting real valued random number \n",
    "random.random()"
   ]
  },
  {
   "cell_type": "code",
   "execution_count": 72,
   "metadata": {},
   "outputs": [
    {
     "data": {
      "text/plain": "2.407021269129744"
     },
     "execution_count": 72,
     "metadata": {},
     "output_type": "execute_result"
    }
   ],
   "source": [
    "random.gauss(2,0.4)"
   ]
  },
  {
   "cell_type": "code",
   "execution_count": 73,
   "metadata": {},
   "outputs": [
    {
     "name": "stdout",
     "output_type": "stream",
     "text": [
      "[2.930389527395705, 3.608225423042271, 3.289449987201523, 2.647274800867291, 3.0948740070118634, 2.7499227828042, 2.8958991408513692, 2.6097575706715657, 3.5601768479336378, 2.675992187392286, 3.4990066259185473, 2.4393135825086887, 3.6842426220370945, 3.1990924067807542, 3.486257309134694, 3.450196791639435, 2.863409351174936, 2.9427752301741243, 2.0986974664856133, 3.347575154804375, 2.593888034280935, 2.6792871691571487, 3.2406864488146963, 3.242844449699343, 3.4930335654898967, 3.4640669054346063, 2.2422848914481097, 3.4580502962949646, 3.063340983448644, 3.080907248963439, 3.229627602034397, 2.0658686661894192, 2.7759357810402943, 2.794174512344123, 3.4686676320409164, 2.7090948278179154, 2.8480780914024644, 2.5051694154374555, 3.6149978668388187, 2.4872922272679, 3.225407130558356, 3.677728831788212, 1.896665695757736, 3.590384902778908, 2.714570970727475, 3.1629062395758423, 2.8179853012795903, 2.371237103433589, 2.954894858035416, 2.9112404355316968]\n"
     ]
    }
   ],
   "source": [
    "gauss_data1 =  [random.gauss(3,0.5) for i in range(0,50)]   # with mu 3 and std 0.5 \n",
    "print(gauss_data1)"
   ]
  },
  {
   "cell_type": "code",
   "execution_count": 74,
   "metadata": {},
   "outputs": [
    {
     "data": {
      "text/html": "<div>\n<style scoped>\n    .dataframe tbody tr th:only-of-type {\n        vertical-align: middle;\n    }\n\n    .dataframe tbody tr th {\n        vertical-align: top;\n    }\n\n    .dataframe thead th {\n        text-align: right;\n    }\n</style>\n<table border=\"1\" class=\"dataframe\">\n  <thead>\n    <tr style=\"text-align: right;\">\n      <th></th>\n      <th>x1</th>\n      <th>x2</th>\n      <th>x3</th>\n    </tr>\n  </thead>\n  <tbody>\n    <tr>\n      <th>0</th>\n      <td>3.087424</td>\n      <td>34.0</td>\n      <td>240.300170</td>\n    </tr>\n    <tr>\n      <th>1</th>\n      <td>2.954830</td>\n      <td>46.0</td>\n      <td>239.647750</td>\n    </tr>\n    <tr>\n      <th>2</th>\n      <td>2.366063</td>\n      <td>28.0</td>\n      <td>238.857482</td>\n    </tr>\n    <tr>\n      <th>3</th>\n      <td>4.017904</td>\n      <td>38.0</td>\n      <td>239.650657</td>\n    </tr>\n    <tr>\n      <th>4</th>\n      <td>3.610342</td>\n      <td>14.0</td>\n      <td>239.791106</td>\n    </tr>\n    <tr>\n      <th>5</th>\n      <td>3.463775</td>\n      <td>18.0</td>\n      <td>240.586623</td>\n    </tr>\n    <tr>\n      <th>6</th>\n      <td>2.745878</td>\n      <td>25.0</td>\n      <td>240.838983</td>\n    </tr>\n    <tr>\n      <th>7</th>\n      <td>1.976187</td>\n      <td>49.0</td>\n      <td>240.931102</td>\n    </tr>\n    <tr>\n      <th>8</th>\n      <td>3.283848</td>\n      <td>3.0</td>\n      <td>240.285587</td>\n    </tr>\n    <tr>\n      <th>9</th>\n      <td>3.581530</td>\n      <td>5.0</td>\n      <td>240.885141</td>\n    </tr>\n    <tr>\n      <th>10</th>\n      <td>2.841385</td>\n      <td>2.0</td>\n      <td>239.245602</td>\n    </tr>\n    <tr>\n      <th>11</th>\n      <td>3.137234</td>\n      <td>33.0</td>\n      <td>241.252868</td>\n    </tr>\n    <tr>\n      <th>12</th>\n      <td>3.886761</td>\n      <td>43.0</td>\n      <td>240.512930</td>\n    </tr>\n    <tr>\n      <th>13</th>\n      <td>1.902218</td>\n      <td>30.0</td>\n      <td>239.701907</td>\n    </tr>\n    <tr>\n      <th>14</th>\n      <td>3.630842</td>\n      <td>44.0</td>\n      <td>240.488518</td>\n    </tr>\n    <tr>\n      <th>15</th>\n      <td>4.294827</td>\n      <td>40.0</td>\n      <td>239.924428</td>\n    </tr>\n    <tr>\n      <th>16</th>\n      <td>3.752379</td>\n      <td>37.0</td>\n      <td>241.131629</td>\n    </tr>\n    <tr>\n      <th>17</th>\n      <td>3.280329</td>\n      <td>47.0</td>\n      <td>241.519817</td>\n    </tr>\n    <tr>\n      <th>18</th>\n      <td>2.995583</td>\n      <td>12.0</td>\n      <td>242.185575</td>\n    </tr>\n    <tr>\n      <th>19</th>\n      <td>4.463064</td>\n      <td>23.0</td>\n      <td>238.603504</td>\n    </tr>\n    <tr>\n      <th>20</th>\n      <td>3.326158</td>\n      <td>0.0</td>\n      <td>238.555886</td>\n    </tr>\n    <tr>\n      <th>21</th>\n      <td>1.897291</td>\n      <td>16.0</td>\n      <td>239.495534</td>\n    </tr>\n    <tr>\n      <th>22</th>\n      <td>3.182316</td>\n      <td>24.0</td>\n      <td>240.160037</td>\n    </tr>\n    <tr>\n      <th>23</th>\n      <td>3.611891</td>\n      <td>15.0</td>\n      <td>240.876169</td>\n    </tr>\n    <tr>\n      <th>24</th>\n      <td>2.804622</td>\n      <td>7.0</td>\n      <td>240.315635</td>\n    </tr>\n    <tr>\n      <th>25</th>\n      <td>3.537143</td>\n      <td>29.0</td>\n      <td>237.977799</td>\n    </tr>\n    <tr>\n      <th>26</th>\n      <td>2.793852</td>\n      <td>31.0</td>\n      <td>239.693796</td>\n    </tr>\n    <tr>\n      <th>27</th>\n      <td>2.916196</td>\n      <td>19.0</td>\n      <td>240.827975</td>\n    </tr>\n    <tr>\n      <th>28</th>\n      <td>2.620594</td>\n      <td>35.0</td>\n      <td>240.230095</td>\n    </tr>\n    <tr>\n      <th>29</th>\n      <td>3.463808</td>\n      <td>48.0</td>\n      <td>240.762011</td>\n    </tr>\n    <tr>\n      <th>30</th>\n      <td>3.296245</td>\n      <td>10.0</td>\n      <td>239.777672</td>\n    </tr>\n    <tr>\n      <th>31</th>\n      <td>2.547939</td>\n      <td>8.0</td>\n      <td>239.799242</td>\n    </tr>\n    <tr>\n      <th>32</th>\n      <td>2.777195</td>\n      <td>1.0</td>\n      <td>240.186561</td>\n    </tr>\n    <tr>\n      <th>33</th>\n      <td>3.262915</td>\n      <td>42.0</td>\n      <td>240.410052</td>\n    </tr>\n    <tr>\n      <th>34</th>\n      <td>2.404481</td>\n      <td>13.0</td>\n      <td>240.198300</td>\n    </tr>\n    <tr>\n      <th>35</th>\n      <td>3.175835</td>\n      <td>32.0</td>\n      <td>240.119009</td>\n    </tr>\n    <tr>\n      <th>36</th>\n      <td>2.898980</td>\n      <td>22.0</td>\n      <td>239.329338</td>\n    </tr>\n    <tr>\n      <th>37</th>\n      <td>3.202689</td>\n      <td>4.0</td>\n      <td>240.377564</td>\n    </tr>\n    <tr>\n      <th>38</th>\n      <td>3.184401</td>\n      <td>21.0</td>\n      <td>240.121821</td>\n    </tr>\n    <tr>\n      <th>39</th>\n      <td>2.613707</td>\n      <td>17.0</td>\n      <td>241.129484</td>\n    </tr>\n    <tr>\n      <th>40</th>\n      <td>3.377336</td>\n      <td>6.0</td>\n      <td>241.198918</td>\n    </tr>\n    <tr>\n      <th>41</th>\n      <td>2.115941</td>\n      <td>26.0</td>\n      <td>240.185156</td>\n    </tr>\n    <tr>\n      <th>42</th>\n      <td>2.590020</td>\n      <td>41.0</td>\n      <td>239.624715</td>\n    </tr>\n    <tr>\n      <th>43</th>\n      <td>3.057702</td>\n      <td>45.0</td>\n      <td>239.361270</td>\n    </tr>\n    <tr>\n      <th>44</th>\n      <td>3.370783</td>\n      <td>27.0</td>\n      <td>240.423494</td>\n    </tr>\n    <tr>\n      <th>45</th>\n      <td>2.877114</td>\n      <td>11.0</td>\n      <td>240.077340</td>\n    </tr>\n    <tr>\n      <th>46</th>\n      <td>2.460135</td>\n      <td>9.0</td>\n      <td>239.656146</td>\n    </tr>\n    <tr>\n      <th>47</th>\n      <td>3.077690</td>\n      <td>20.0</td>\n      <td>240.043597</td>\n    </tr>\n    <tr>\n      <th>48</th>\n      <td>3.233556</td>\n      <td>36.0</td>\n      <td>239.379999</td>\n    </tr>\n    <tr>\n      <th>49</th>\n      <td>2.514885</td>\n      <td>39.0</td>\n      <td>240.698032</td>\n    </tr>\n  </tbody>\n</table>\n</div>",
      "text/plain": "          x1    x2          x3\n0   3.087424  34.0  240.300170\n1   2.954830  46.0  239.647750\n2   2.366063  28.0  238.857482\n3   4.017904  38.0  239.650657\n4   3.610342  14.0  239.791106\n5   3.463775  18.0  240.586623\n6   2.745878  25.0  240.838983\n7   1.976187  49.0  240.931102\n8   3.283848   3.0  240.285587\n9   3.581530   5.0  240.885141\n10  2.841385   2.0  239.245602\n11  3.137234  33.0  241.252868\n12  3.886761  43.0  240.512930\n13  1.902218  30.0  239.701907\n14  3.630842  44.0  240.488518\n15  4.294827  40.0  239.924428\n16  3.752379  37.0  241.131629\n17  3.280329  47.0  241.519817\n18  2.995583  12.0  242.185575\n19  4.463064  23.0  238.603504\n20  3.326158   0.0  238.555886\n21  1.897291  16.0  239.495534\n22  3.182316  24.0  240.160037\n23  3.611891  15.0  240.876169\n24  2.804622   7.0  240.315635\n25  3.537143  29.0  237.977799\n26  2.793852  31.0  239.693796\n27  2.916196  19.0  240.827975\n28  2.620594  35.0  240.230095\n29  3.463808  48.0  240.762011\n30  3.296245  10.0  239.777672\n31  2.547939   8.0  239.799242\n32  2.777195   1.0  240.186561\n33  3.262915  42.0  240.410052\n34  2.404481  13.0  240.198300\n35  3.175835  32.0  240.119009\n36  2.898980  22.0  239.329338\n37  3.202689   4.0  240.377564\n38  3.184401  21.0  240.121821\n39  2.613707  17.0  241.129484\n40  3.377336   6.0  241.198918\n41  2.115941  26.0  240.185156\n42  2.590020  41.0  239.624715\n43  3.057702  45.0  239.361270\n44  3.370783  27.0  240.423494\n45  2.877114  11.0  240.077340\n46  2.460135   9.0  239.656146\n47  3.077690  20.0  240.043597\n48  3.233556  36.0  239.379999\n49  2.514885  39.0  240.698032"
     },
     "execution_count": 74,
     "metadata": {},
     "output_type": "execute_result"
    }
   ],
   "source": [
    "pd.DataFrame([df_final.x1, df_final.x2, df_final.x3]).T"
   ]
  },
  {
   "cell_type": "code",
   "execution_count": null,
   "metadata": {},
   "outputs": [],
   "source": []
  },
  {
   "cell_type": "code",
   "execution_count": null,
   "metadata": {},
   "outputs": [],
   "source": []
  },
  {
   "cell_type": "code",
   "execution_count": null,
   "metadata": {},
   "outputs": [],
   "source": []
  }
 ],
 "metadata": {
  "kernelspec": {
   "display_name": "Python 3.8.5 64-bit",
   "name": "python385jvsc74a57bd031f2aee4e71d21fbe5cf8b01ff0e069b9275f58929596ceb00d14d90e3e16cd6"
  },
  "language_info": {
   "codemirror_mode": {
    "name": "ipython",
    "version": 3
   },
   "file_extension": ".py",
   "mimetype": "text/x-python",
   "name": "python",
   "nbconvert_exporter": "python",
   "pygments_lexer": "ipython3",
   "version": "3.8.5"
  },
  "metadata": {
   "interpreter": {
    "hash": "31f2aee4e71d21fbe5cf8b01ff0e069b9275f58929596ceb00d14d90e3e16cd6"
   }
  }
 },
 "nbformat": 4,
 "nbformat_minor": 2
}