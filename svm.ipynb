{
 "cells": [
  {
   "cell_type": "code",
   "execution_count": null,
   "metadata": {},
   "outputs": [],
   "source": [
    "# importing the numpy library \n",
    "import numpy as np \n",
    "\n",
    "# building an svm class \n",
    "\n",
    "class SVM:\n",
    "    def __init__(self, lr , lambda_param, n_iters):\n",
    "        self.lr = learning_rate \n",
    "        self.lambda_param = lamba_parameter \n",
    "        self.n_iters = n_iters \n",
    "        self.w = None\n",
    "        self.b = None \n",
    "\n",
    "    def fit(self,X,y):\n",
    "        # getting the no of samples and features from shape of X \n",
    "        n_sample, n_features = X.shape\n",
    "\n",
    "        # redefine target variable \n",
    "        y_ = np.where(y <= 0, -1, 1) \n",
    "\n",
    "        # setting zero weights \n",
    "        self.w = np.zeros(n_featurs)\n",
    "\n",
    "        # setting bias - 0 \n",
    "        self.b = 0 \n",
    "\n",
    "\n",
    "        # looping over iterations \n",
    "        for _ in range(self.n_iters):\n",
    "            "
   ]
  },
  {
   "cell_type": "code",
   "execution_count": 3,
   "metadata": {},
   "outputs": [
    {
     "name": "stderr",
     "output_type": "stream",
     "text": [
      "<frozen importlib._bootstrap>:219: RuntimeWarning: numpy.ufunc size changed, may indicate binary incompatibility. Expected 192 from C header, got 216 from PyObject\n"
     ]
    },
    {
     "name": "stdout",
     "output_type": "stream",
     "text": [
      "   x1  x2\n",
      "0   1   4\n",
      "1   2   3\n",
      "2   3   5\n",
      "3   2   3\n",
      "4   1   4\n",
      "5   3   2\n",
      "6   2   3\n"
     ]
    }
   ],
   "source": [
    "import pandas as pd \n",
    "X = pd.DataFrame({'x1':[1,2,3,2,1,3,2], 'x2':[4,3,5,3,4,2,3]})\n",
    "print(X)\n",
    "\n",
    "for idx, xi in enumerate(X):\n",
    "    print(idx,xi)  "
   ]
  },
  {
   "cell_type": "code",
   "execution_count": null,
   "metadata": {},
   "outputs": [],
   "source": []
  }
 ],
 "metadata": {
  "kernelspec": {
   "display_name": "Python 3.8.3 64-bit ('base': conda)",
   "name": "python383jvsc74a57bd0deb510cefc833cdbdaae2fafd1a84903dc82918185085651130eeea72f673024"
  },
  "language_info": {
   "codemirror_mode": {
    "name": "ipython",
    "version": 3
   },
   "file_extension": ".py",
   "mimetype": "text/x-python",
   "name": "python",
   "nbconvert_exporter": "python",
   "pygments_lexer": "ipython3",
   "version": "3.8.3"
  },
  "orig_nbformat": 2
 },
 "nbformat": 4,
 "nbformat_minor": 2
}