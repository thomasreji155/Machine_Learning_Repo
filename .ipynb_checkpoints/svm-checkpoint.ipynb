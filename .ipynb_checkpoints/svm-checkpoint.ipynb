{
 "cells": [
  {
   "cell_type": "code",
   "execution_count": null,
   "metadata": {},
   "outputs": [],
   "source": [
    "# importing the numpy library \n",
    "import numpy as np \n",
    "\n",
    "# building an svm class \n",
    "\n",
    "class SVM:\n",
    "    def __init__(self, lr , lambda_param, n_iters):\n",
    "        self.lr = learning_rate \n",
    "        self.lambda_param = lamba_parameter \n",
    "        self.n_iters = n_iters \n",
    "        self.w = None\n",
    "        self.b = None \n",
    "\n",
    "    def fit(self,X,y):\n",
    "        # getting the no of samples and features from shape of X \n",
    "        n_sample, n_features = X.shape\n",
    "\n",
    "        # redefine target variable \n",
    "        y_ = np.where(y <= 0, -1, 1) \n",
    "\n",
    "        # setting zero weights \n",
    "        self.w = np.zeros(n_featurs)\n",
    "\n",
    "        # setting bias - 0 \n",
    "        self.b = 0 \n",
    "\n",
    "\n",
    "        # looping over iterations \n",
    "        for _ in range(self.n_iters):\n",
    "            \n",
    "            for idx,xi in enumerate(X):\n",
    "                condition = y_[idx]* "
   ]
  },
  {
   "cell_type": "code",
   "execution_count": 2,
   "metadata": {},
   "outputs": [
    {
     "name": "stdout",
     "output_type": "stream",
     "text": [
      "   x1  x2\n",
      "0   1   4\n",
      "1   2   3\n",
      "2   3   5\n",
      "3   2   3\n",
      "4   1   4\n",
      "5   3   2\n",
      "6   2   3\n",
      "------------------------------\n",
      "0 x1\n",
      "1 x2\n"
     ]
    }
   ],
   "source": [
    "import pandas as pd \n",
    "X = pd.DataFrame({'x1':[1,2,3,2,1,3,2], 'x2':[4,3,5,3,4,2,3]})\n",
    "print(X)\n",
    "print('------------------------------')\n",
    "for idx, xi in enumerate(X):\n",
    "    print(idx,xi)  "
   ]
  },
  {
   "cell_type": "code",
   "execution_count": null,
   "metadata": {},
   "outputs": [],
   "source": []
  }
 ],
 "metadata": {
  "kernelspec": {
   "display_name": "Python 3",
   "language": "python",
   "name": "python3"
  },
  "language_info": {
   "codemirror_mode": {
    "name": "ipython",
    "version": 3
   },
   "file_extension": ".py",
   "mimetype": "text/x-python",
   "name": "python",
   "nbconvert_exporter": "python",
   "pygments_lexer": "ipython3",
   "version": "3.8.3"
  }
 },
 "nbformat": 4,
 "nbformat_minor": 2
}
