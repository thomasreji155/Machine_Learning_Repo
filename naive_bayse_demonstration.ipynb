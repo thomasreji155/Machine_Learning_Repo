{
 "cells": [
  {
   "cell_type": "code",
   "execution_count": 10,
   "metadata": {},
   "outputs": [],
   "source": [
    "import pandas as pd \n",
    "import numpy as np \n",
    "\n",
    "class NB():\n",
    "    def __init__(self,X,y):\n",
    "        self.X = X\n",
    "        self.y = y\n",
    "        self.features = list(self.X.columns)\n",
    "        \n",
    "         # making a list of unique classes\n",
    "        self.classes = list(self.y.unique())\n",
    "        # counting the total no of classes in the target feature \n",
    "        self.class_0count = list(self.y).count(self.classes[0])\n",
    "        self.class_1count = list(self.y).count(self.classes[1]) \n",
    "        \n",
    "    def fit(self):       \n",
    "        # getting the features names and target name      \n",
    "        target = self.y.name\n",
    "            \n",
    "        # creating a dictionary with features as keys \n",
    "        final_dict = dict.fromkeys(self.features)\n",
    "\n",
    "        # start looping over the features using feature index \n",
    "        for f in range(len(self.features)):\n",
    "            \n",
    "            # creating the gps list consists of uniques values for each feature \n",
    "            gps = list(self.X[self.features[f]].unique())\n",
    "            \n",
    "            # creating a dictionary for each gp  \n",
    "            gp_counts = dict.fromkeys(gps)\n",
    "            \n",
    "            for j in range(len(gps)):          \n",
    "                # getting the count of first group \n",
    "                dict_count = self.y[self.X[self.features[f]] == gps[j]].value_counts()\n",
    "                \n",
    "                # dividing the value counts by total no of classes respectively (yes and no)\n",
    "                dc = dict.fromkeys(self.classes)\n",
    "                dc[self.classes[0]] = dict_count[self.classes[0]]/self.class_0count\n",
    "                dc[self.classes[1]] = dict_count[self.classes[1]]/self.class_1count\n",
    "                \n",
    "                # storing the counts dictionary in \n",
    "                gp_counts[gps[j]] = dc\n",
    "                         \n",
    "            # adding all the gp counts to the respective features :    \n",
    "            final_dict[self.features[f]] = gp_counts\n",
    "                    \n",
    "        # returning the final dictionary which holds the apriori probabilities \n",
    "        return final_dict\n",
    "    \n",
    "    def predict(self):\n",
    "        final_dict = NB.fit(self)\n",
    "        # defining a function \n",
    "        def pred(feature_vec):                   \n",
    "            # finding the class probabilities        \n",
    "            class_proba = dict.fromkeys(self.classes)\n",
    "            for i in range(len(self.classes)):\n",
    "                ct = len(self.y[self.y == self.classes[i]])/len(self.y)\n",
    "                class_proba[self.classes[i]] = ct            \n",
    "            \n",
    "            prob_yes = 1\n",
    "            prob_no = 1\n",
    "            for i in range(len(feature_vec)):\n",
    "                r = final_dict[self.features[i]]  [feature_vec[i]]    [self.classes[0]]\n",
    "                prob_yes = prob_yes * r  \n",
    "                \n",
    "                g = final_dict[self.features[i]][feature_vec[i]]    [self.classes[1]]\n",
    "                prob_no = prob_no * g \n",
    "                \n",
    "\n",
    "        \n",
    "        \n",
    "            # multiplying with class probabilities     \n",
    "            fin_yes = prob_yes * class_proba[self.classes[0]]\n",
    "            fin_no = prob_no * class_proba[self.classes[1]]\n",
    "            \n",
    "            if fin_yes> fin_no:\n",
    "                return self.classes[0]\n",
    "            else:\n",
    "                return self.classes[1]\n",
    "        \n",
    "        preds = []\n",
    "        for row in range(len(self.X)):\n",
    "            preds.append(pred(list(self.X.iloc[row])))\n",
    "        return pd.DataFrame(preds,columns = ['predictions'])  \n"
   ]
  },
  {
   "cell_type": "code",
   "execution_count": 11,
   "metadata": {},
   "outputs": [
    {
     "data": {
      "text/html": "<div>\n<style scoped>\n    .dataframe tbody tr th:only-of-type {\n        vertical-align: middle;\n    }\n\n    .dataframe tbody tr th {\n        vertical-align: top;\n    }\n\n    .dataframe thead th {\n        text-align: right;\n    }\n</style>\n<table border=\"1\" class=\"dataframe\">\n  <thead>\n    <tr style=\"text-align: right;\">\n      <th></th>\n      <th>age</th>\n      <th>sex</th>\n      <th>cp</th>\n      <th>trestbps</th>\n      <th>chol</th>\n      <th>fbs</th>\n      <th>restecg</th>\n      <th>thalach</th>\n      <th>exang</th>\n      <th>oldpeak</th>\n      <th>slope</th>\n      <th>ca</th>\n      <th>thal</th>\n      <th>target</th>\n    </tr>\n  </thead>\n  <tbody>\n    <tr>\n      <th>0</th>\n      <td>63</td>\n      <td>1</td>\n      <td>3</td>\n      <td>145</td>\n      <td>233</td>\n      <td>1</td>\n      <td>0</td>\n      <td>150</td>\n      <td>0</td>\n      <td>2.3</td>\n      <td>0</td>\n      <td>0</td>\n      <td>1</td>\n      <td>1</td>\n    </tr>\n    <tr>\n      <th>1</th>\n      <td>37</td>\n      <td>1</td>\n      <td>2</td>\n      <td>130</td>\n      <td>250</td>\n      <td>0</td>\n      <td>1</td>\n      <td>187</td>\n      <td>0</td>\n      <td>3.5</td>\n      <td>0</td>\n      <td>0</td>\n      <td>2</td>\n      <td>1</td>\n    </tr>\n    <tr>\n      <th>2</th>\n      <td>41</td>\n      <td>0</td>\n      <td>1</td>\n      <td>130</td>\n      <td>204</td>\n      <td>0</td>\n      <td>0</td>\n      <td>172</td>\n      <td>0</td>\n      <td>1.4</td>\n      <td>2</td>\n      <td>0</td>\n      <td>2</td>\n      <td>1</td>\n    </tr>\n    <tr>\n      <th>3</th>\n      <td>56</td>\n      <td>1</td>\n      <td>1</td>\n      <td>120</td>\n      <td>236</td>\n      <td>0</td>\n      <td>1</td>\n      <td>178</td>\n      <td>0</td>\n      <td>0.8</td>\n      <td>2</td>\n      <td>0</td>\n      <td>2</td>\n      <td>1</td>\n    </tr>\n    <tr>\n      <th>4</th>\n      <td>57</td>\n      <td>0</td>\n      <td>0</td>\n      <td>120</td>\n      <td>354</td>\n      <td>0</td>\n      <td>1</td>\n      <td>163</td>\n      <td>1</td>\n      <td>0.6</td>\n      <td>2</td>\n      <td>0</td>\n      <td>2</td>\n      <td>1</td>\n    </tr>\n  </tbody>\n</table>\n</div>",
      "text/plain": "   age  sex  cp  trestbps  chol  fbs  restecg  thalach  exang  oldpeak  slope  \\\n0   63    1   3       145   233    1        0      150      0      2.3      0   \n1   37    1   2       130   250    0        1      187      0      3.5      0   \n2   41    0   1       130   204    0        0      172      0      1.4      2   \n3   56    1   1       120   236    0        1      178      0      0.8      2   \n4   57    0   0       120   354    0        1      163      1      0.6      2   \n\n   ca  thal  target  \n0   0     1       1  \n1   0     2       1  \n2   0     2       1  \n3   0     2       1  \n4   0     2       1  "
     },
     "execution_count": 11,
     "metadata": {},
     "output_type": "execute_result"
    }
   ],
   "source": [
    "import pandas as pd \n",
    "import numpy as nb \n",
    "df = pd.read_csv('/home/thomaskutty/Gitrepo/Statistics/data/heart.csv')\n",
    "df.head()"
   ]
  },
  {
   "cell_type": "code",
   "execution_count": 12,
   "metadata": {},
   "outputs": [
    {
     "name": "stdout",
     "output_type": "stream",
     "text": [
      "<class 'pandas.core.frame.DataFrame'>\n",
      "RangeIndex: 303 entries, 0 to 302\n",
      "Data columns (total 14 columns):\n",
      " #   Column    Non-Null Count  Dtype  \n",
      "---  ------    --------------  -----  \n",
      " 0   age       303 non-null    int64  \n",
      " 1   sex       303 non-null    int64  \n",
      " 2   cp        303 non-null    int64  \n",
      " 3   trestbps  303 non-null    int64  \n",
      " 4   chol      303 non-null    int64  \n",
      " 5   fbs       303 non-null    int64  \n",
      " 6   restecg   303 non-null    int64  \n",
      " 7   thalach   303 non-null    int64  \n",
      " 8   exang     303 non-null    int64  \n",
      " 9   oldpeak   303 non-null    float64\n",
      " 10  slope     303 non-null    int64  \n",
      " 11  ca        303 non-null    int64  \n",
      " 12  thal      303 non-null    int64  \n",
      " 13  target    303 non-null    int64  \n",
      "dtypes: float64(1), int64(13)\n",
      "memory usage: 33.3 KB\n"
     ]
    }
   ],
   "source": [
    "df.info()"
   ]
  },
  {
   "cell_type": "code",
   "execution_count": 13,
   "metadata": {},
   "outputs": [
    {
     "data": {
      "text/html": "<div>\n<style scoped>\n    .dataframe tbody tr th:only-of-type {\n        vertical-align: middle;\n    }\n\n    .dataframe tbody tr th {\n        vertical-align: top;\n    }\n\n    .dataframe thead th {\n        text-align: right;\n    }\n</style>\n<table border=\"1\" class=\"dataframe\">\n  <thead>\n    <tr style=\"text-align: right;\">\n      <th></th>\n      <th>sex</th>\n      <th>cp</th>\n      <th>fbs</th>\n      <th>restecg</th>\n      <th>exang</th>\n      <th>slope</th>\n      <th>ca</th>\n      <th>thal</th>\n    </tr>\n  </thead>\n  <tbody>\n    <tr>\n      <th>0</th>\n      <td>1</td>\n      <td>3</td>\n      <td>1</td>\n      <td>0</td>\n      <td>0</td>\n      <td>0</td>\n      <td>0</td>\n      <td>1</td>\n    </tr>\n    <tr>\n      <th>1</th>\n      <td>1</td>\n      <td>2</td>\n      <td>0</td>\n      <td>1</td>\n      <td>0</td>\n      <td>0</td>\n      <td>0</td>\n      <td>2</td>\n    </tr>\n    <tr>\n      <th>2</th>\n      <td>0</td>\n      <td>1</td>\n      <td>0</td>\n      <td>0</td>\n      <td>0</td>\n      <td>2</td>\n      <td>0</td>\n      <td>2</td>\n    </tr>\n    <tr>\n      <th>3</th>\n      <td>1</td>\n      <td>1</td>\n      <td>0</td>\n      <td>1</td>\n      <td>0</td>\n      <td>2</td>\n      <td>0</td>\n      <td>2</td>\n    </tr>\n    <tr>\n      <th>4</th>\n      <td>0</td>\n      <td>0</td>\n      <td>0</td>\n      <td>1</td>\n      <td>1</td>\n      <td>2</td>\n      <td>0</td>\n      <td>2</td>\n    </tr>\n  </tbody>\n</table>\n</div>",
      "text/plain": "   sex  cp  fbs  restecg  exang  slope  ca  thal\n0    1   3    1        0      0      0   0     1\n1    1   2    0        1      0      0   0     2\n2    0   1    0        0      0      2   0     2\n3    1   1    0        1      0      2   0     2\n4    0   0    0        1      1      2   0     2"
     },
     "execution_count": 13,
     "metadata": {},
     "output_type": "execute_result"
    }
   ],
   "source": [
    "X = df.drop(['age','chol','trestbps', 'thalach','oldpeak','target'], axis = 1)\n",
    "X.head()"
   ]
  },
  {
   "cell_type": "code",
   "execution_count": 14,
   "metadata": {},
   "outputs": [],
   "source": [
    "y = df.target"
   ]
  },
  {
   "cell_type": "code",
   "execution_count": 15,
   "metadata": {},
   "outputs": [],
   "source": [
    "nb_model = NB(X,y)"
   ]
  },
  {
   "cell_type": "code",
   "execution_count": 17,
   "metadata": {},
   "outputs": [
    {
     "data": {
      "text/plain": "{'sex': {1: {1: 0.5636363636363636, 0: 0.8260869565217391},\n  0: {1: 0.43636363636363634, 0: 0.17391304347826086}},\n 'cp': {3: {1: 0.09696969696969697, 0: 0.050724637681159424},\n  2: {1: 0.41818181818181815, 0: 0.13043478260869565},\n  1: {1: 0.24848484848484848, 0: 0.06521739130434782},\n  0: {1: 0.23636363636363636, 0: 0.7536231884057971}},\n 'fbs': {1: {1: 0.1393939393939394, 0: 0.15942028985507245},\n  0: {1: 0.8606060606060606, 0: 0.8405797101449275}},\n 'restecg': {0: {1: 0.4121212121212121, 0: 0.572463768115942},\n  1: {1: 0.5818181818181818, 0: 0.4057971014492754},\n  2: {1: 0.006060606060606061, 0: 0.021739130434782608}},\n 'exang': {0: {1: 0.8606060606060606, 0: 0.4492753623188406},\n  1: {1: 0.1393939393939394, 0: 0.5507246376811594}},\n 'slope': {0: {1: 0.05454545454545454, 0: 0.08695652173913043},\n  2: {1: 0.6484848484848484, 0: 0.2536231884057971},\n  1: {1: 0.296969696969697, 0: 0.6594202898550725}},\n 'ca': {0: {1: 0.7878787878787878, 0: 0.32608695652173914},\n  2: {1: 0.04242424242424243, 0: 0.2246376811594203},\n  1: {1: 0.12727272727272726, 0: 0.3188405797101449},\n  3: {1: 0.01818181818181818, 0: 0.12318840579710146},\n  4: {1: 0.024242424242424242, 0: 0.007246376811594203}},\n 'thal': {1: {1: 0.03636363636363636, 0: 0.08695652173913043},\n  2: {1: 0.7878787878787878, 0: 0.2608695652173913},\n  3: {1: 0.1696969696969697, 0: 0.644927536231884},\n  0: {1: 0.006060606060606061, 0: 0.007246376811594203}}}"
     },
     "execution_count": 17,
     "metadata": {},
     "output_type": "execute_result"
    }
   ],
   "source": [
    "nb_model.fit() "
   ]
  },
  {
   "cell_type": "code",
   "execution_count": 20,
   "metadata": {},
   "outputs": [],
   "source": [
    "predictions = nb_model.predict() "
   ]
  },
  {
   "cell_type": "code",
   "execution_count": 24,
   "metadata": {},
   "outputs": [
    {
     "data": {
      "text/html": "<div>\n<style scoped>\n    .dataframe tbody tr th:only-of-type {\n        vertical-align: middle;\n    }\n\n    .dataframe tbody tr th {\n        vertical-align: top;\n    }\n\n    .dataframe thead th {\n        text-align: right;\n    }\n</style>\n<table border=\"1\" class=\"dataframe\">\n  <thead>\n    <tr style=\"text-align: right;\">\n      <th></th>\n      <th>actual</th>\n      <th>predictions</th>\n    </tr>\n  </thead>\n  <tbody>\n    <tr>\n      <th>0</th>\n      <td>1</td>\n      <td>1</td>\n    </tr>\n    <tr>\n      <th>1</th>\n      <td>1</td>\n      <td>1</td>\n    </tr>\n    <tr>\n      <th>2</th>\n      <td>1</td>\n      <td>1</td>\n    </tr>\n    <tr>\n      <th>3</th>\n      <td>1</td>\n      <td>1</td>\n    </tr>\n    <tr>\n      <th>4</th>\n      <td>1</td>\n      <td>1</td>\n    </tr>\n    <tr>\n      <th>...</th>\n      <td>...</td>\n      <td>...</td>\n    </tr>\n    <tr>\n      <th>298</th>\n      <td>0</td>\n      <td>0</td>\n    </tr>\n    <tr>\n      <th>299</th>\n      <td>0</td>\n      <td>1</td>\n    </tr>\n    <tr>\n      <th>300</th>\n      <td>0</td>\n      <td>0</td>\n    </tr>\n    <tr>\n      <th>301</th>\n      <td>0</td>\n      <td>0</td>\n    </tr>\n    <tr>\n      <th>302</th>\n      <td>0</td>\n      <td>1</td>\n    </tr>\n  </tbody>\n</table>\n<p>303 rows × 2 columns</p>\n</div>",
      "text/plain": "     actual  predictions\n0         1            1\n1         1            1\n2         1            1\n3         1            1\n4         1            1\n..      ...          ...\n298       0            0\n299       0            1\n300       0            0\n301       0            0\n302       0            1\n\n[303 rows x 2 columns]"
     },
     "execution_count": 24,
     "metadata": {},
     "output_type": "execute_result"
    }
   ],
   "source": [
    "result = pd.DataFrame()\n",
    "result['actual'] = y\n",
    "result['predictions'] = predictions \n",
    "result"
   ]
  },
  {
   "cell_type": "code",
   "execution_count": 28,
   "metadata": {},
   "outputs": [
    {
     "data": {
      "text/plain": "0.834983498349835"
     },
     "execution_count": 28,
     "metadata": {},
     "output_type": "execute_result"
    }
   ],
   "source": [
    "# correctly predicted labels \n",
    "accuracy = len(result[result.actual== result.predictions])/len(result)\n",
    "accuracy"
   ]
  },
  {
   "cell_type": "code",
   "execution_count": null,
   "metadata": {},
   "outputs": [],
   "source": []
  }
 ],
 "metadata": {
  "kernelspec": {
   "display_name": "Python 3.8.3 64-bit ('base': conda)",
   "name": "python383jvsc74a57bd0deb510cefc833cdbdaae2fafd1a84903dc82918185085651130eeea72f673024"
  },
  "language_info": {
   "codemirror_mode": {
    "name": "ipython",
    "version": 3
   },
   "file_extension": ".py",
   "mimetype": "text/x-python",
   "name": "python",
   "nbconvert_exporter": "python",
   "pygments_lexer": "ipython3",
   "version": "3.8.3"
  },
  "orig_nbformat": 2
 },
 "nbformat": 4,
 "nbformat_minor": 2
}